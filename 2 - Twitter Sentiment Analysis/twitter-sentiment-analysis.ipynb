{
 "cells": [
  {
   "cell_type": "code",
   "execution_count": 1,
   "metadata": {},
   "outputs": [],
   "source": [
    "import pandas as pd\n",
    "import numpy as np\n",
    "import matplotlib.pyplot as plt\n",
    "import seaborn as sns\n",
    "import re\n",
    "\n",
    "from sklearn.feature_extraction.text import CountVectorizer\n",
    "from sklearn.feature_extraction.text import TfidfTransformer\n",
    "from sklearn.metrics import confusion_matrix\n",
    "from sklearn.pipeline import Pipeline\n",
    "from sklearn.model_selection import cross_val_score\n",
    "from sklearn.model_selection import train_test_split\n",
    "\n",
    "from sklearn.naive_bayes import MultinomialNB\n",
    "from sklearn.neighbors import KNeighborsClassifier\n",
    "from sklearn.linear_model import SGDClassifier\n",
    "from sklearn.ensemble import RandomForestClassifier\n",
    "\n",
    "from nltk.corpus import stopwords\n",
    "from nltk.tokenize import word_tokenize\n",
    "from nltk.stem.snowball import SnowballStemmer"
   ]
  },
  {
   "cell_type": "markdown",
   "metadata": {},
   "source": [
    "# Data Exploration"
   ]
  },
  {
   "cell_type": "code",
   "execution_count": 2,
   "metadata": {},
   "outputs": [],
   "source": [
    "data = pd.read_csv('Sentiment.csv')"
   ]
  },
  {
   "cell_type": "code",
   "execution_count": 3,
   "metadata": {},
   "outputs": [
    {
     "data": {
      "text/html": [
       "<div>\n",
       "<style scoped>\n",
       "    .dataframe tbody tr th:only-of-type {\n",
       "        vertical-align: middle;\n",
       "    }\n",
       "\n",
       "    .dataframe tbody tr th {\n",
       "        vertical-align: top;\n",
       "    }\n",
       "\n",
       "    .dataframe thead th {\n",
       "        text-align: right;\n",
       "    }\n",
       "</style>\n",
       "<table border=\"1\" class=\"dataframe\">\n",
       "  <thead>\n",
       "    <tr style=\"text-align: right;\">\n",
       "      <th></th>\n",
       "      <th>id</th>\n",
       "      <th>candidate_confidence</th>\n",
       "      <th>relevant_yn_confidence</th>\n",
       "      <th>sentiment_confidence</th>\n",
       "      <th>subject_matter_confidence</th>\n",
       "      <th>retweet_count</th>\n",
       "      <th>tweet_id</th>\n",
       "    </tr>\n",
       "  </thead>\n",
       "  <tbody>\n",
       "    <tr>\n",
       "      <th>count</th>\n",
       "      <td>13871.000000</td>\n",
       "      <td>13871.000000</td>\n",
       "      <td>13871.000000</td>\n",
       "      <td>13871.000000</td>\n",
       "      <td>13871.000000</td>\n",
       "      <td>13871.000000</td>\n",
       "      <td>1.387100e+04</td>\n",
       "    </tr>\n",
       "    <tr>\n",
       "      <th>mean</th>\n",
       "      <td>6936.000000</td>\n",
       "      <td>0.855689</td>\n",
       "      <td>0.927304</td>\n",
       "      <td>0.756936</td>\n",
       "      <td>0.782801</td>\n",
       "      <td>45.803331</td>\n",
       "      <td>6.296058e+17</td>\n",
       "    </tr>\n",
       "    <tr>\n",
       "      <th>std</th>\n",
       "      <td>4004.357127</td>\n",
       "      <td>0.241388</td>\n",
       "      <td>0.141696</td>\n",
       "      <td>0.217682</td>\n",
       "      <td>0.258215</td>\n",
       "      <td>153.981724</td>\n",
       "      <td>9.611863e+13</td>\n",
       "    </tr>\n",
       "    <tr>\n",
       "      <th>min</th>\n",
       "      <td>1.000000</td>\n",
       "      <td>0.222200</td>\n",
       "      <td>0.333300</td>\n",
       "      <td>0.186000</td>\n",
       "      <td>0.222200</td>\n",
       "      <td>0.000000</td>\n",
       "      <td>6.294531e+17</td>\n",
       "    </tr>\n",
       "    <tr>\n",
       "      <th>25%</th>\n",
       "      <td>3468.500000</td>\n",
       "      <td>0.674200</td>\n",
       "      <td>1.000000</td>\n",
       "      <td>0.651700</td>\n",
       "      <td>0.641300</td>\n",
       "      <td>0.000000</td>\n",
       "      <td>6.294861e+17</td>\n",
       "    </tr>\n",
       "    <tr>\n",
       "      <th>50%</th>\n",
       "      <td>6936.000000</td>\n",
       "      <td>1.000000</td>\n",
       "      <td>1.000000</td>\n",
       "      <td>0.681300</td>\n",
       "      <td>1.000000</td>\n",
       "      <td>2.000000</td>\n",
       "      <td>6.296726e+17</td>\n",
       "    </tr>\n",
       "    <tr>\n",
       "      <th>75%</th>\n",
       "      <td>10403.500000</td>\n",
       "      <td>1.000000</td>\n",
       "      <td>1.000000</td>\n",
       "      <td>1.000000</td>\n",
       "      <td>1.000000</td>\n",
       "      <td>44.000000</td>\n",
       "      <td>6.296882e+17</td>\n",
       "    </tr>\n",
       "    <tr>\n",
       "      <th>max</th>\n",
       "      <td>13871.000000</td>\n",
       "      <td>1.000000</td>\n",
       "      <td>1.000000</td>\n",
       "      <td>1.000000</td>\n",
       "      <td>1.000000</td>\n",
       "      <td>4965.000000</td>\n",
       "      <td>6.297017e+17</td>\n",
       "    </tr>\n",
       "  </tbody>\n",
       "</table>\n",
       "</div>"
      ],
      "text/plain": [
       "                 id  candidate_confidence  relevant_yn_confidence  \\\n",
       "count  13871.000000          13871.000000            13871.000000   \n",
       "mean    6936.000000              0.855689                0.927304   \n",
       "std     4004.357127              0.241388                0.141696   \n",
       "min        1.000000              0.222200                0.333300   \n",
       "25%     3468.500000              0.674200                1.000000   \n",
       "50%     6936.000000              1.000000                1.000000   \n",
       "75%    10403.500000              1.000000                1.000000   \n",
       "max    13871.000000              1.000000                1.000000   \n",
       "\n",
       "       sentiment_confidence  subject_matter_confidence  retweet_count  \\\n",
       "count          13871.000000               13871.000000   13871.000000   \n",
       "mean               0.756936                   0.782801      45.803331   \n",
       "std                0.217682                   0.258215     153.981724   \n",
       "min                0.186000                   0.222200       0.000000   \n",
       "25%                0.651700                   0.641300       0.000000   \n",
       "50%                0.681300                   1.000000       2.000000   \n",
       "75%                1.000000                   1.000000      44.000000   \n",
       "max                1.000000                   1.000000    4965.000000   \n",
       "\n",
       "           tweet_id  \n",
       "count  1.387100e+04  \n",
       "mean   6.296058e+17  \n",
       "std    9.611863e+13  \n",
       "min    6.294531e+17  \n",
       "25%    6.294861e+17  \n",
       "50%    6.296726e+17  \n",
       "75%    6.296882e+17  \n",
       "max    6.297017e+17  "
      ]
     },
     "execution_count": 3,
     "metadata": {},
     "output_type": "execute_result"
    }
   ],
   "source": [
    "data.describe()"
   ]
  },
  {
   "cell_type": "code",
   "execution_count": 4,
   "metadata": {},
   "outputs": [],
   "source": [
    "data = data[['text', 'sentiment']]"
   ]
  },
  {
   "cell_type": "code",
   "execution_count": 5,
   "metadata": {},
   "outputs": [
    {
     "data": {
      "text/html": [
       "<div>\n",
       "<style scoped>\n",
       "    .dataframe tbody tr th:only-of-type {\n",
       "        vertical-align: middle;\n",
       "    }\n",
       "\n",
       "    .dataframe tbody tr th {\n",
       "        vertical-align: top;\n",
       "    }\n",
       "\n",
       "    .dataframe thead th {\n",
       "        text-align: right;\n",
       "    }\n",
       "</style>\n",
       "<table border=\"1\" class=\"dataframe\">\n",
       "  <thead>\n",
       "    <tr style=\"text-align: right;\">\n",
       "      <th></th>\n",
       "      <th>text</th>\n",
       "      <th>sentiment</th>\n",
       "    </tr>\n",
       "  </thead>\n",
       "  <tbody>\n",
       "    <tr>\n",
       "      <th>0</th>\n",
       "      <td>RT @NancyLeeGrahn: How did everyone feel about...</td>\n",
       "      <td>Neutral</td>\n",
       "    </tr>\n",
       "    <tr>\n",
       "      <th>1</th>\n",
       "      <td>RT @ScottWalker: Didn't catch the full #GOPdeb...</td>\n",
       "      <td>Positive</td>\n",
       "    </tr>\n",
       "    <tr>\n",
       "      <th>2</th>\n",
       "      <td>RT @TJMShow: No mention of Tamir Rice and the ...</td>\n",
       "      <td>Neutral</td>\n",
       "    </tr>\n",
       "    <tr>\n",
       "      <th>3</th>\n",
       "      <td>RT @RobGeorge: That Carly Fiorina is trending ...</td>\n",
       "      <td>Positive</td>\n",
       "    </tr>\n",
       "    <tr>\n",
       "      <th>4</th>\n",
       "      <td>RT @DanScavino: #GOPDebate w/ @realDonaldTrump...</td>\n",
       "      <td>Positive</td>\n",
       "    </tr>\n",
       "  </tbody>\n",
       "</table>\n",
       "</div>"
      ],
      "text/plain": [
       "                                                text sentiment\n",
       "0  RT @NancyLeeGrahn: How did everyone feel about...   Neutral\n",
       "1  RT @ScottWalker: Didn't catch the full #GOPdeb...  Positive\n",
       "2  RT @TJMShow: No mention of Tamir Rice and the ...   Neutral\n",
       "3  RT @RobGeorge: That Carly Fiorina is trending ...  Positive\n",
       "4  RT @DanScavino: #GOPDebate w/ @realDonaldTrump...  Positive"
      ]
     },
     "execution_count": 5,
     "metadata": {},
     "output_type": "execute_result"
    }
   ],
   "source": [
    "data.head()"
   ]
  },
  {
   "cell_type": "code",
   "execution_count": 6,
   "metadata": {},
   "outputs": [
    {
     "data": {
      "text/plain": [
       "<AxesSubplot:xlabel='sentiment_names'>"
      ]
     },
     "execution_count": 6,
     "metadata": {},
     "output_type": "execute_result"
    },
    {
     "data": {
      "image/png": "[encoded data removed]",
      "text/plain": [
       "<Figure size 432x288 with 1 Axes>"
      ]
     },
     "metadata": {
      "needs_background": "light"
     },
     "output_type": "display_data"
    }
   ],
   "source": [
    "sentiment_counts = data['sentiment'].value_counts()\n",
    "df_counts = pd.DataFrame({'sentiment_names': sentiment_counts.index, 'sentiment_counts': sentiment_counts})\n",
    "df_counts.head()\n",
    "df_counts.plot.bar(x='sentiment_names', y='sentiment_counts', color=['red','gray','green'])"
   ]
  },
  {
   "cell_type": "markdown",
   "metadata": {},
   "source": [
    "# Data Preprocessing\n",
    "\n",
    "* Cleaning alphanumeric symbols with regular expresions and removing RTs from each tweet\n",
    "* Removing stopwords\n",
    "* Applying stemming\n",
    "* Converting labels from categorical to numeric"
   ]
  },
  {
   "cell_type": "code",
   "execution_count": 7,
   "metadata": {},
   "outputs": [],
   "source": [
    "stemmer = SnowballStemmer(language='english') \n",
    "\n",
    "def sentiment_to_numeric(sentiment):\n",
    "    if sentiment == 'Positive':\n",
    "        return 0\n",
    "    elif sentiment == 'Neutral':\n",
    "        return 1\n",
    "    elif sentiment == 'Negative':\n",
    "        return 2\n",
    "\n",
    "def clean_alphanumeric_tokenize_stopwords_stemming(text):\n",
    "    cleaned_text = re.sub(r'[^\\w]', ' ', text).strip()\n",
    "    cleaned_text = cleaned_text.replace('RT', '').lower()\n",
    "    tokens = [stemmer.stem(token) for token in word_tokenize(cleaned_text) if not token in stopwords.words('english')]\n",
    "    tweet = ''\n",
    "    for token in tokens:\n",
    "        tweet += token + ' '\n",
    "    \n",
    "    return tweet"
   ]
  },
  {
   "cell_type": "code",
   "execution_count": 8,
   "metadata": {},
   "outputs": [],
   "source": [
    "data['sentiment'] = data['sentiment'].apply(sentiment_to_numeric)\n",
    "data['text'] = data['text'].apply(clean_alphanumeric_tokenize_stopwords_stemming)"
   ]
  },
  {
   "cell_type": "code",
   "execution_count": 9,
   "metadata": {},
   "outputs": [
    {
     "data": {
      "text/html": [
       "<div>\n",
       "<style scoped>\n",
       "    .dataframe tbody tr th:only-of-type {\n",
       "        vertical-align: middle;\n",
       "    }\n",
       "\n",
       "    .dataframe tbody tr th {\n",
       "        vertical-align: top;\n",
       "    }\n",
       "\n",
       "    .dataframe thead th {\n",
       "        text-align: right;\n",
       "    }\n",
       "</style>\n",
       "<table border=\"1\" class=\"dataframe\">\n",
       "  <thead>\n",
       "    <tr style=\"text-align: right;\">\n",
       "      <th></th>\n",
       "      <th>text</th>\n",
       "      <th>sentiment</th>\n",
       "    </tr>\n",
       "  </thead>\n",
       "  <tbody>\n",
       "    <tr>\n",
       "      <th>0</th>\n",
       "      <td>nancyleegrahn everyon feel climat chang questi...</td>\n",
       "      <td>1</td>\n",
       "    </tr>\n",
       "    <tr>\n",
       "      <th>1</th>\n",
       "      <td>scottwalk catch full gopdeb last night scott b...</td>\n",
       "      <td>0</td>\n",
       "    </tr>\n",
       "    <tr>\n",
       "      <th>2</th>\n",
       "      <td>tjmshow mention tamir rice gopdeb held clevela...</td>\n",
       "      <td>1</td>\n",
       "    </tr>\n",
       "    <tr>\n",
       "      <th>3</th>\n",
       "      <td>robgeorg car fiorina trend hour debat men comp...</td>\n",
       "      <td>0</td>\n",
       "    </tr>\n",
       "    <tr>\n",
       "      <th>4</th>\n",
       "      <td>danscavino gopdeb w realdonaldtrump deliv high...</td>\n",
       "      <td>0</td>\n",
       "    </tr>\n",
       "  </tbody>\n",
       "</table>\n",
       "</div>"
      ],
      "text/plain": [
       "                                                text  sentiment\n",
       "0  nancyleegrahn everyon feel climat chang questi...          1\n",
       "1  scottwalk catch full gopdeb last night scott b...          0\n",
       "2  tjmshow mention tamir rice gopdeb held clevela...          1\n",
       "3  robgeorg car fiorina trend hour debat men comp...          0\n",
       "4  danscavino gopdeb w realdonaldtrump deliv high...          0"
      ]
     },
     "execution_count": 9,
     "metadata": {},
     "output_type": "execute_result"
    }
   ],
   "source": [
    "data.head()"
   ]
  },
  {
   "cell_type": "markdown",
   "metadata": {},
   "source": [
    "# Creating Sparse Matrixes and Models\n",
    "\n",
    "* Applying bag of words\n",
    "* Applying TF + IDF transformation\n",
    "* Creating different models: MultinomialNB, Random Forest, SGD, KNN\n",
    "* Checking models' accuracy using cross validation"
   ]
  },
  {
   "cell_type": "code",
   "execution_count": 14,
   "metadata": {},
   "outputs": [],
   "source": [
    "c_vect = CountVectorizer()\n",
    "tfidf = TfidfTransformer()\n",
    "\n",
    "X = c_vect.fit_transform(data['text'])\n",
    "X = tfidf.fit_transform(X)\n",
    "\n",
    "y = data['sentiment']"
   ]
  },
  {
   "cell_type": "code",
   "execution_count": 15,
   "metadata": {},
   "outputs": [
    {
     "name": "stdout",
     "output_type": "stream",
     "text": [
      "Scores [0.63531532 0.63734679 0.63049748 0.64960346 0.61679885]\n",
      "Mean Score 0.6339123781315561\n"
     ]
    }
   ],
   "source": [
    "#MultinomialNB\n",
    "\n",
    "text_clf = MultinomialNB()\n",
    "scores = cross_val_score(text_clf, X, y, cv=5, scoring='accuracy', n_jobs=-1)\n",
    "print('Scores', scores)\n",
    "print('Mean Score', np.mean(scores))"
   ]
  },
  {
   "cell_type": "code",
   "execution_count": 16,
   "metadata": {},
   "outputs": [
    {
     "name": "stdout",
     "output_type": "stream",
     "text": [
      "Scores [0.54774775 0.53640952 0.53280461 0.6222062  0.63482336]\n",
      "Mean Score 0.5747982878336159\n"
     ]
    }
   ],
   "source": [
    "#KNN Classifier\n",
    "\n",
    "text_clf = KNeighborsClassifier(n_jobs=-1)\n",
    "scores = cross_val_score(text_clf, X, y, cv=5, scoring='accuracy', n_jobs=-1)\n",
    "print('Scores', scores)\n",
    "print('Mean Score', np.mean(scores))"
   ]
  },
  {
   "cell_type": "code",
   "execution_count": 17,
   "metadata": {},
   "outputs": [
    {
     "name": "stdout",
     "output_type": "stream",
     "text": [
      "Scores [0.66630631 0.67880317 0.62040375 0.6705119  0.68276857]\n",
      "Mean Score 0.6637587378293939\n"
     ]
    }
   ],
   "source": [
    "#SGD Classifier\n",
    "\n",
    "text_clf = SGDClassifier(n_jobs=-1, random_state=42)\n",
    "scores = cross_val_score(text_clf, X, y, cv=5, scoring='accuracy', n_jobs=-1)\n",
    "print('Scores', scores)\n",
    "print('Mean Score', np.mean(scores))"
   ]
  },
  {
   "cell_type": "code",
   "execution_count": 18,
   "metadata": {},
   "outputs": [
    {
     "name": "stdout",
     "output_type": "stream",
     "text": [
      "Scores [0.65333333 0.65789474 0.59048306 0.64419611 0.6741168 ]\n",
      "Mean Score 0.6440048065368902\n"
     ]
    }
   ],
   "source": [
    "#Random Forest Classifier\n",
    "\n",
    "text_clf = RandomForestClassifier(n_jobs=-1)\n",
    "scores = cross_val_score(text_clf, X, y, cv=5, scoring='accuracy', n_jobs=-1)\n",
    "print('Scores', scores)\n",
    "print('Mean Score', np.mean(scores))"
   ]
  },
  {
   "cell_type": "markdown",
   "metadata": {},
   "source": [
    "# Checking Models' Accuracy on Training and Testing Datasets"
   ]
  },
  {
   "cell_type": "code",
   "execution_count": 19,
   "metadata": {},
   "outputs": [
    {
     "name": "stdout",
     "output_type": "stream",
     "text": [
      "(11096, 15269) (2775, 15269) (11096,) (2775,)\n"
     ]
    }
   ],
   "source": [
    "X_train, X_test, y_train, y_test = train_test_split(X, y, test_size=0.2, random_state=42)\n",
    "print(X_train.shape, X_test.shape, y_train.shape, y_test.shape)"
   ]
  },
  {
   "cell_type": "code",
   "execution_count": 20,
   "metadata": {},
   "outputs": [
    {
     "data": {
      "text/plain": [
       "0.6472072072072073"
      ]
     },
     "execution_count": 20,
     "metadata": {},
     "output_type": "execute_result"
    }
   ],
   "source": [
    "#Train Multinomial NB Classifier\n",
    "\n",
    "bayes = MultinomialNB()\n",
    "bayes.fit(X_train, y_train)\n",
    "bayes_prediction = bayes.predict(X_test)\n",
    "np.mean(bayes_prediction == y_test)"
   ]
  },
  {
   "cell_type": "code",
   "execution_count": 21,
   "metadata": {},
   "outputs": [
    {
     "data": {
      "text/plain": [
       "0.6807207207207208"
      ]
     },
     "execution_count": 21,
     "metadata": {},
     "output_type": "execute_result"
    }
   ],
   "source": [
    "#Train Random Forest Classifier\n",
    "\n",
    "forest = RandomForestClassifier(n_jobs=-1, random_state=42)\n",
    "forest.fit(X_train, y_train)\n",
    "forest_prediction = forest.predict(X_test)\n",
    "np.mean(forest_prediction == y_test)"
   ]
  },
  {
   "cell_type": "code",
   "execution_count": 22,
   "metadata": {},
   "outputs": [
    {
     "data": {
      "text/plain": [
       "0.6972972972972973"
      ]
     },
     "execution_count": 22,
     "metadata": {},
     "output_type": "execute_result"
    }
   ],
   "source": [
    "#Train SGD Classifier\n",
    "\n",
    "sgd = SGDClassifier(n_jobs=-1, random_state=42)\n",
    "sgd.fit(X_train, y_train)\n",
    "sgd_prediction = sgd.predict(X_test)\n",
    "np.mean(sgd_prediction == y_test)"
   ]
  },
  {
   "cell_type": "markdown",
   "metadata": {},
   "source": [
    "# Confusion Matrix Visualization\n",
    "* Using seaborn heatmap to visualize final model's performances"
   ]
  },
  {
   "cell_type": "code",
   "execution_count": 23,
   "metadata": {},
   "outputs": [],
   "source": [
    "sgd_cf = confusion_matrix(sgd_prediction, y_test)\n",
    "forest_cf = confusion_matrix(forest_prediction, y_test)\n",
    "bayes_cf = confusion_matrix(bayes_prediction, y_test)\n",
    "\n",
    "categories = ['Positive', 'Neutral', 'Negative']"
   ]
  },
  {
   "cell_type": "code",
   "execution_count": 24,
   "metadata": {},
   "outputs": [
    {
     "data": {
      "text/plain": [
       "<AxesSubplot:>"
      ]
     },
     "execution_count": 24,
     "metadata": {},
     "output_type": "execute_result"
    },
    {
     "data": {
      "image/png": "[encoded data removed]",
      "text/plain": [
       "<Figure size 432x288 with 2 Axes>"
      ]
     },
     "metadata": {
      "needs_background": "light"
     },
     "output_type": "display_data"
    }
   ],
   "source": [
    "sns.heatmap(sgd_cf, annot=True, xticklabels=categories, yticklabels=categories)"
   ]
  },
  {
   "cell_type": "code",
   "execution_count": 25,
   "metadata": {},
   "outputs": [
    {
     "data": {
      "text/plain": [
       "<AxesSubplot:>"
      ]
     },
     "execution_count": 25,
     "metadata": {},
     "output_type": "execute_result"
    },
    {
     "data": {
      "image/png": "[encoded data removed]",
      "text/plain": [
       "<Figure size 432x288 with 2 Axes>"
      ]
     },
     "metadata": {
      "needs_background": "light"
     },
     "output_type": "display_data"
    }
   ],
   "source": [
    "sns.heatmap(forest_cf, annot=True, xticklabels=categories, yticklabels=categories)"
   ]
  },
  {
   "cell_type": "code",
   "execution_count": 26,
   "metadata": {},
   "outputs": [
    {
     "data": {
      "text/plain": [
       "<AxesSubplot:>"
      ]
     },
     "execution_count": 26,
     "metadata": {},
     "output_type": "execute_result"
    },
    {
     "data": {
      "image/png": "[encoded data removed]",
      "text/plain": [
       "<Figure size 432x288 with 2 Axes>"
      ]
     },
     "metadata": {
      "needs_background": "light"
     },
     "output_type": "display_data"
    }
   ],
   "source": [
    "sns.heatmap(bayes_cf, annot=True, xticklabels=categories, yticklabels=categories)"
   ]
  },
  {
   "cell_type": "markdown",
   "metadata": {},
   "source": [
    "# Conclusion\n",
    "\n",
    "**SGD Classifier** is the best model with an accuracy of **69.72%**.\n",
    "I have also tried **MultinomialNB** and **Random Forest Classifier** but their accuracy is lower: **64.72%** and **68.07%**.\n",
    "\n",
    "The results show a very poor performance for identifying sentiment in tweets. For improving these results, it would be a good idea to explore different models and try to fine-tune its hyperparameters. It is also a good idea to change the data preprocessing and trying different things."
   ]
  }
 ],
 "metadata": {
  "kernelspec": {
   "display_name": "Python 3",
   "language": "python",
   "name": "python3"
  },
  "language_info": {
   "codemirror_mode": {
    "name": "ipython",
    "version": 3
   },
   "file_extension": ".py",
   "mimetype": "text/x-python",
   "name": "python",
   "nbconvert_exporter": "python",
   "pygments_lexer": "ipython3",
   "version": "3.8.5"
  }
 },
 "nbformat": 4,
 "nbformat_minor": 4
}
